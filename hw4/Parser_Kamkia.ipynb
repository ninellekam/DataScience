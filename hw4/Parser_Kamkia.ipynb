{
 "cells": [
  {
   "cell_type": "code",
   "execution_count": 6,
   "id": "motivated-drinking",
   "metadata": {},
   "outputs": [],
   "source": [
    "import gzip\n",
    "import json\n",
    "import codecs\n",
    "\n",
    "from multiprocessing.dummy import Pool, Queue\n",
    "from bs4 import BeautifulSoup\n",
    "from lxml import etree,html as lhtml\n",
    "import re\n",
    "import requests\n",
    "import functools"
   ]
  },
  {
   "cell_type": "code",
   "execution_count": 10,
   "id": "coated-gross",
   "metadata": {},
   "outputs": [],
   "source": [
    "url = 'https://gg.deals/games/?sort=metascore&type=1'"
   ]
  },
  {
   "cell_type": "code",
   "execution_count": 11,
   "id": "vertical-audio",
   "metadata": {},
   "outputs": [],
   "source": [
    "def get_page(url, attempts=5, sleep_time=0.01, **kwargs):\n",
    "    \n",
    "    for _ in range(attempts):\n",
    "        \n",
    "        page = requests.get(url,**kwargs)\n",
    "        if page.ok:\n",
    "            return page\n",
    "        \n",
    "        time.sleep(sleep_time)\n",
    "        \n",
    "    print(url, page.status_code)"
   ]
  },
  {
   "cell_type": "code",
   "execution_count": 135,
   "id": "understanding-console",
   "metadata": {},
   "outputs": [],
   "source": [
    "def get_urls_in_page(pages_text):\n",
    "    soup = BeautifulSoup(pages_text, 'html.parser')\n",
    "    l = []\n",
    "    for link in soup.find_all('a', class_=\"ellipsis title\"):\n",
    "        l.append(link['href'])\n",
    "    return l"
   ]
  },
  {
   "cell_type": "code",
   "execution_count": 136,
   "id": "amazing-constitutional",
   "metadata": {},
   "outputs": [],
   "source": [
    "def next_page(page_id):\n",
    "    pages = requests.get('https://gg.deals/games/?sort=metascore&type=1&page={}'.format(page_id))\n",
    "    return pages"
   ]
  },
  {
   "cell_type": "code",
   "execution_count": 385,
   "id": "raising-guess",
   "metadata": {},
   "outputs": [],
   "source": [
    "def tags_genres_feautures(s):\n",
    "    tags = soup.find('div', id='game-info-genres')\n",
    "    tags = tags.find_all('a', class_=\"badge\")\n",
    "    local_list = []\n",
    "    for i in tags:\n",
    "        local_list.append(i.text)\n",
    "        print(i.text)\n",
    "    return local_list"
   ]
  },
  {
   "cell_type": "code",
   "execution_count": 460,
   "id": "nutritional-dimension",
   "metadata": {},
   "outputs": [],
   "source": [
    "def game_info(url):\n",
    "    url_html = requests.get('https://gg.deals' + url).text\n",
    "    soup = BeautifulSoup(url_html, 'lxml')\n",
    "    res = {}\n",
    "    res['url'] = 'https://gg.deals' + url\n",
    "    res['name'] = soup.find('a', href=url).find('span').text\n",
    "    \n",
    "    image = soup.find('div', class_=lambda s: s and s.startswith('game-info-image')).find('img')\n",
    "    image_url = image['src']\n",
    "    res['image'] = image_url\n",
    "    \n",
    "    market_url = soup.find('a', class_=\"game-link-widget\")\n",
    "    res['market_url'] = market_url['href']\n",
    "    \n",
    "    counter = soup.find('div', class_=lambda s: s and s.startswith('game-collection-actions'))\n",
    "    counter = counter.find_all('span', class_='count')\n",
    "    cnt_list = re.findall(r'>\\d+<',str(counter))\n",
    "    for i in range(0,6):\n",
    "        cnt_list[i] = cnt_list[i][1:-1]\n",
    "    cnt_list = cnt_list[0:-1:2]# wish,alert,own\n",
    "    wish_cnt = int(cnt_list[0])\n",
    "    alert_cnt = int(cnt_list[1])\n",
    "    own_cnt = int(cnt_list[2])\n",
    "    res['wishlist_count'] = wish_cnt\n",
    "    res['alert_count'] =  alert_cnt\n",
    "    res['owners_count'] = own_cnt\n",
    "\n",
    "    p = soup.find('div', class_=lambda s: s and s.startswith('game-info-details-section game-info-details-section-release'))\n",
    "    p = p.find('p', class_='game-info-details-content')\n",
    "    res['release_date'] = p.text\n",
    "    p = soup.find('div', class_=lambda s: s and s.startswith('game-info-details-section game-info-details-section-developer'))\n",
    "    p = p.find('p', class_='game-info-details-content')\n",
    "    res['developer'] = p.text\n",
    "    \n",
    "    m_score = soup.find('a', class_=lambda s: s and s.startswith('score-circle score-metascore'))\n",
    "    m_score = m_score.find('span', class_='overlay')\n",
    "    res['metacritic_score'] = m_score.text\n",
    "    user_score = soup.find('a', class_=lambda s: s and s.startswith('score-circle score-userscore'))\n",
    "    user_score = user_score.find('span', class_='overlay')\n",
    "    res['user_score'] = user_score.text\n",
    "    \n",
    "    tags = soup.find('div', id=\"game-info-tags\")\n",
    "    tags = tags.find_all('a', class_=\"badge\")\n",
    "    local_list = []\n",
    "    for i in tags:\n",
    "        local_list.append(i.text)\n",
    "    res['tags'] = local_list\n",
    "\n",
    "    genres = soup.find('div', id='game-info-genres')\n",
    "    genres = genres.find_all('a', class_=\"badge\")\n",
    "    local_list = []\n",
    "    for i in genres:\n",
    "        local_list.append(i.text)\n",
    "    res['genres'] = local_list\n",
    "    \n",
    "    feature = soup.find('div', id='game-info-features')\n",
    "    feature = feature.find_all('a', class_=\"badge\")\n",
    "    local_list = []\n",
    "    for i in feature:\n",
    "        local_list.append(i.text)\n",
    "    res['features'] = local_list\n",
    "    \n",
    "    os = soup.find('div', class_='system-requirements-section')\n",
    "    os = os.find('ul', class_=\"bb_ul\")\n",
    "    res['pc_systems'] = os.find('li').text\n",
    "    \n",
    "    dlcs = soup.find('div', class_='games-box games-box-related-list load-more-content')\n",
    "    dlcs = dlcs.find_all('a', class_=\"full-link\")\n",
    "    local_list = []\n",
    "    for i in dlcs:\n",
    "        local_list.append(i['href'])\n",
    "    res['dlcs'] = local_list\n",
    "    \n",
    "#     res['review_label'] = \n",
    "#     res['review_positive_pctg'] = \n",
    "#     res['review_count'] = \n",
    "#     res['price_history'] = \n",
    "    return res"
   ]
  },
  {
   "cell_type": "code",
   "execution_count": 461,
   "id": "unusual-tournament",
   "metadata": {},
   "outputs": [
    {
     "data": {
      "text/plain": [
       "{'url': 'https://gg.deals/game/grand-theft-auto-san-andreas/',\n",
       " 'name': 'Grand Theft Auto: San Andreas',\n",
       " 'image': 'https://img.gg.deals/e3/83/126f646277b36c221907f8d49ba2d0b0bb15_307xt176.jpg',\n",
       " 'market_url': 'https://gg.deals/redirect/a0abab69ee204dcdb5e7fe2a0fe49e2936df07ba/?utm_source=games%2Fsingle',\n",
       " 'wishlist_count': 931,\n",
       " 'alert_count': 100,\n",
       " 'owners_count': 10701,\n",
       " 'release_date': '06 Jun 2005',\n",
       " 'developer': 'Rockstar Games',\n",
       " 'metacritic_score': '93',\n",
       " 'user_score': '8.9',\n",
       " 'tags': ['Open World',\n",
       "  'Action',\n",
       "  'Crime',\n",
       "  'Classic',\n",
       "  'Automobile Sim',\n",
       "  'Third Person',\n",
       "  'Multiplayer',\n",
       "  'Singleplayer',\n",
       "  'Shooter',\n",
       "  'Driving',\n",
       "  'Story Rich',\n",
       "  'Adventure',\n",
       "  'Sandbox',\n",
       "  'Mature',\n",
       "  'Great Soundtrack',\n",
       "  'Third-Person Shooter',\n",
       "  'Atmospheric',\n",
       "  'Moddable',\n",
       "  'Funny',\n",
       "  'Comedy'],\n",
       " 'genres': ['Action'],\n",
       " 'features': ['Single-player'],\n",
       " 'dlcs': ['/ru/pack/grand-theft-auto-complete-pack/',\n",
       "  '/ru/pack/grand-theft-auto-trilogy/',\n",
       "  '/ru/pack/grand-theft-auto-iv-grand-theft-auto-san-andreas/'],\n",
       " 'pc_systems': 'OS: Microsoft® Windows® 2000/XP\\n'}"
      ]
     },
     "execution_count": 461,
     "metadata": {},
     "output_type": "execute_result"
    }
   ],
   "source": [
    "pages = next_page(2)\n",
    "my_list= []\n",
    "my_list = get_urls_in_page(pages.text)\n",
    "game_info(my_list[3])\n",
    "# for i in range(2):\n",
    "#     game_info(my_list[i])"
   ]
  },
  {
   "cell_type": "code",
   "execution_count": 219,
   "id": "reflected-drama",
   "metadata": {},
   "outputs": [],
   "source": [
    "headers = {'x-requested-with': 'XMLHttpRequest'}\n",
    "test = requests.get('https://gg.deals/ru/games/chartHistoricalData/{}/?hideKeyshops=0'.format(21937), headers=headers)\n",
    "tree = test.json()"
   ]
  },
  {
   "cell_type": "code",
   "execution_count": null,
   "id": "falling-relay",
   "metadata": {},
   "outputs": [],
   "source": []
  }
 ],
 "metadata": {
  "kernelspec": {
   "display_name": "Python 3",
   "language": "python",
   "name": "python3"
  },
  "language_info": {
   "codemirror_mode": {
    "name": "ipython",
    "version": 3
   },
   "file_extension": ".py",
   "mimetype": "text/x-python",
   "name": "python",
   "nbconvert_exporter": "python",
   "pygments_lexer": "ipython3",
   "version": "3.7.10"
  }
 },
 "nbformat": 4,
 "nbformat_minor": 5
}
